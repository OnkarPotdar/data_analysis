{
 "cells": [
  {
   "cell_type": "code",
   "execution_count": 2,
   "id": "5743952f",
   "metadata": {},
   "outputs": [
    {
     "name": "stdout",
     "output_type": "stream",
     "text": [
      "1 2 \n",
      "3 4 5\n",
      "6 7 8 9\n",
      "output is===>> 1 2 3 4 5 6 7 8 9\n"
     ]
    }
   ],
   "source": [
    "A, B = map(int,input().split())\n",
    "C, D, E = map(int, input().split())\n",
    "F, G, H, I = map(int,input().split())\n",
    "print('output is===>>',A, B, C, D, E, F, G, H, I)"
   ]
  },
  {
   "cell_type": "code",
   "execution_count": 3,
   "id": "812bd075",
   "metadata": {},
   "outputs": [
    {
     "name": "stdout",
     "output_type": "stream",
     "text": [
      "2\n",
      "5 6\n",
      "4\n",
      "54 54\n",
      "4 \n"
     ]
    }
   ],
   "source": [
    "t = int(input())\n",
    "for i in range(t):\n",
    "    N, k = map(int, input().split())\n",
    "    A = list(map(int, input().split()))\n",
    "    "
   ]
  },
  {
   "cell_type": "code",
   "execution_count": 6,
   "id": "f5ba2b18",
   "metadata": {},
   "outputs": [
    {
     "name": "stdout",
     "output_type": "stream",
     "text": [
      "7\n",
      "{7}\n"
     ]
    }
   ],
   "source": [
    "\n",
    "A = set(map(int, input().split()))\n",
    "print(A)"
   ]
  },
  {
   "cell_type": "code",
   "execution_count": null,
   "id": "042ba240",
   "metadata": {},
   "outputs": [],
   "source": []
  }
 ],
 "metadata": {
  "kernelspec": {
   "display_name": "Python 3 (ipykernel)",
   "language": "python",
   "name": "python3"
  },
  "language_info": {
   "codemirror_mode": {
    "name": "ipython",
    "version": 3
   },
   "file_extension": ".py",
   "mimetype": "text/x-python",
   "name": "python",
   "nbconvert_exporter": "python",
   "pygments_lexer": "ipython3",
   "version": "3.9.13"
  }
 },
 "nbformat": 4,
 "nbformat_minor": 5
}
