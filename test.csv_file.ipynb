{
 "cells": [
  {
   "cell_type": "code",
   "execution_count": 1,
   "id": "a66d69ba",
   "metadata": {},
   "outputs": [],
   "source": [
    "import pandas as pd"
   ]
  },
  {
   "cell_type": "code",
   "execution_count": 2,
   "id": "f79ab0b4",
   "metadata": {},
   "outputs": [],
   "source": [
    "test_csv=pd.read_csv('test.csv')"
   ]
  },
  {
   "cell_type": "code",
   "execution_count": 3,
   "id": "fadb8f37",
   "metadata": {},
   "outputs": [
    {
     "data": {
      "text/html": [
       "<div>\n",
       "<style scoped>\n",
       "    .dataframe tbody tr th:only-of-type {\n",
       "        vertical-align: middle;\n",
       "    }\n",
       "\n",
       "    .dataframe tbody tr th {\n",
       "        vertical-align: top;\n",
       "    }\n",
       "\n",
       "    .dataframe thead th {\n",
       "        text-align: right;\n",
       "    }\n",
       "</style>\n",
       "<table border=\"1\" class=\"dataframe\">\n",
       "  <thead>\n",
       "    <tr style=\"text-align: right;\">\n",
       "      <th></th>\n",
       "      <th>Sales_ID</th>\n",
       "      <th>Sales_Branch</th>\n",
       "      <th>Recent_Sales_Date</th>\n",
       "      <th>Customer_Count</th>\n",
       "    </tr>\n",
       "  </thead>\n",
       "  <tbody>\n",
       "    <tr>\n",
       "      <th>0</th>\n",
       "      <td>AU_1382578 !\\t</td>\n",
       "      <td>NaN</td>\n",
       "      <td>2019/12/31 GMT+8 18:00</td>\n",
       "      <td>10</td>\n",
       "    </tr>\n",
       "    <tr>\n",
       "      <th>1</th>\n",
       "      <td>TW_83126 !</td>\n",
       "      <td>NaN</td>\n",
       "      <td>2019/12/31 GMT+8 18:00\\t</td>\n",
       "      <td>27</td>\n",
       "    </tr>\n",
       "    <tr>\n",
       "      <th>2</th>\n",
       "      <td>US_2289987 !</td>\n",
       "      <td>NaN</td>\n",
       "      <td>2019/12/29 GMT+8 18:00\\t</td>\n",
       "      <td>12</td>\n",
       "    </tr>\n",
       "    <tr>\n",
       "      <th>3</th>\n",
       "      <td>UK_138200574 !\\t</td>\n",
       "      <td>NaN</td>\n",
       "      <td>2019/12/15 GMT+8 05:00\\t</td>\n",
       "      <td>1</td>\n",
       "    </tr>\n",
       "    <tr>\n",
       "      <th>4</th>\n",
       "      <td>TW_1382578 !\\t</td>\n",
       "      <td>NaN</td>\n",
       "      <td>2019/12/29 GMT+8 05:00</td>\n",
       "      <td>5</td>\n",
       "    </tr>\n",
       "  </tbody>\n",
       "</table>\n",
       "</div>"
      ],
      "text/plain": [
       "           Sales_ID  Sales_Branch         Recent_Sales_Date  Customer_Count\n",
       "0    AU_1382578 !\\t           NaN    2019/12/31 GMT+8 18:00              10\n",
       "1        TW_83126 !           NaN  2019/12/31 GMT+8 18:00\\t              27\n",
       "2      US_2289987 !           NaN  2019/12/29 GMT+8 18:00\\t              12\n",
       "3  UK_138200574 !\\t           NaN  2019/12/15 GMT+8 05:00\\t               1\n",
       "4    TW_1382578 !\\t           NaN    2019/12/29 GMT+8 05:00               5"
      ]
     },
     "execution_count": 3,
     "metadata": {},
     "output_type": "execute_result"
    }
   ],
   "source": [
    "test_csv"
   ]
  },
  {
   "cell_type": "code",
   "execution_count": 4,
   "id": "80e8bf8b",
   "metadata": {},
   "outputs": [
    {
     "data": {
      "text/plain": [
       "0      AU_1382578 !\\t\n",
       "1          TW_83126 !\n",
       "2        US_2289987 !\n",
       "3    UK_138200574 !\\t\n",
       "4      TW_1382578 !\\t\n",
       "Name: Sales_ID, dtype: object"
      ]
     },
     "execution_count": 4,
     "metadata": {},
     "output_type": "execute_result"
    }
   ],
   "source": [
    "test_csv['Sales_ID']"
   ]
  },
  {
   "cell_type": "code",
   "execution_count": 6,
   "id": "981e7270",
   "metadata": {},
   "outputs": [],
   "source": [
    "test_csv['Sales_Branch']=test_csv['Sales_ID'].map(lambda x:x .split('_')[0])"
   ]
  },
  {
   "cell_type": "code",
   "execution_count": 7,
   "id": "22453ee5",
   "metadata": {},
   "outputs": [
    {
     "data": {
      "text/html": [
       "<div>\n",
       "<style scoped>\n",
       "    .dataframe tbody tr th:only-of-type {\n",
       "        vertical-align: middle;\n",
       "    }\n",
       "\n",
       "    .dataframe tbody tr th {\n",
       "        vertical-align: top;\n",
       "    }\n",
       "\n",
       "    .dataframe thead th {\n",
       "        text-align: right;\n",
       "    }\n",
       "</style>\n",
       "<table border=\"1\" class=\"dataframe\">\n",
       "  <thead>\n",
       "    <tr style=\"text-align: right;\">\n",
       "      <th></th>\n",
       "      <th>Sales_ID</th>\n",
       "      <th>Sales_Branch</th>\n",
       "      <th>Recent_Sales_Date</th>\n",
       "      <th>Customer_Count</th>\n",
       "    </tr>\n",
       "  </thead>\n",
       "  <tbody>\n",
       "    <tr>\n",
       "      <th>0</th>\n",
       "      <td>AU_1382578 !\\t</td>\n",
       "      <td>AU</td>\n",
       "      <td>2019/12/31 GMT+8 18:00</td>\n",
       "      <td>10</td>\n",
       "    </tr>\n",
       "    <tr>\n",
       "      <th>1</th>\n",
       "      <td>TW_83126 !</td>\n",
       "      <td>TW</td>\n",
       "      <td>2019/12/31 GMT+8 18:00\\t</td>\n",
       "      <td>27</td>\n",
       "    </tr>\n",
       "    <tr>\n",
       "      <th>2</th>\n",
       "      <td>US_2289987 !</td>\n",
       "      <td>US</td>\n",
       "      <td>2019/12/29 GMT+8 18:00\\t</td>\n",
       "      <td>12</td>\n",
       "    </tr>\n",
       "    <tr>\n",
       "      <th>3</th>\n",
       "      <td>UK_138200574 !\\t</td>\n",
       "      <td>UK</td>\n",
       "      <td>2019/12/15 GMT+8 05:00\\t</td>\n",
       "      <td>1</td>\n",
       "    </tr>\n",
       "    <tr>\n",
       "      <th>4</th>\n",
       "      <td>TW_1382578 !\\t</td>\n",
       "      <td>TW</td>\n",
       "      <td>2019/12/29 GMT+8 05:00</td>\n",
       "      <td>5</td>\n",
       "    </tr>\n",
       "  </tbody>\n",
       "</table>\n",
       "</div>"
      ],
      "text/plain": [
       "           Sales_ID Sales_Branch         Recent_Sales_Date  Customer_Count\n",
       "0    AU_1382578 !\\t           AU    2019/12/31 GMT+8 18:00              10\n",
       "1        TW_83126 !           TW  2019/12/31 GMT+8 18:00\\t              27\n",
       "2      US_2289987 !           US  2019/12/29 GMT+8 18:00\\t              12\n",
       "3  UK_138200574 !\\t           UK  2019/12/15 GMT+8 05:00\\t               1\n",
       "4    TW_1382578 !\\t           TW    2019/12/29 GMT+8 05:00               5"
      ]
     },
     "execution_count": 7,
     "metadata": {},
     "output_type": "execute_result"
    }
   ],
   "source": [
    "test_csv"
   ]
  },
  {
   "cell_type": "code",
   "execution_count": null,
   "id": "6862331c",
   "metadata": {},
   "outputs": [],
   "source": []
  }
 ],
 "metadata": {
  "kernelspec": {
   "display_name": "Python 3 (ipykernel)",
   "language": "python",
   "name": "python3"
  },
  "language_info": {
   "codemirror_mode": {
    "name": "ipython",
    "version": 3
   },
   "file_extension": ".py",
   "mimetype": "text/x-python",
   "name": "python",
   "nbconvert_exporter": "python",
   "pygments_lexer": "ipython3",
   "version": "3.9.13"
  }
 },
 "nbformat": 4,
 "nbformat_minor": 5
}
