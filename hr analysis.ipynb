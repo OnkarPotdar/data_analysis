{
 "cells": [
  {
   "cell_type": "code",
   "execution_count": 1,
   "id": "81783b6a",
   "metadata": {},
   "outputs": [],
   "source": [
    "import pandas as pd\n",
    "import numpy as np\n",
    "import os\n",
    "import seaborn as sns\n",
    "import matplotlib.pyplot as plt\n",
    "from sklearn.model_selection import train_test_split"
   ]
  },
  {
   "cell_type": "code",
   "execution_count": 3,
   "id": "57c0c8d5",
   "metadata": {},
   "outputs": [],
   "source": [
    "os.chdir('D:/onkar_cdac/C-DAC/PML-20230313T171418Z-001/PML/Files_by_sir/5. PML/1. Day wise Study Material/Cases/human-resources-analytics')"
   ]
  },
  {
   "cell_type": "code",
   "execution_count": 4,
   "id": "76bee679",
   "metadata": {},
   "outputs": [],
   "source": [
    "# brest cancer"
   ]
  },
  {
   "cell_type": "code",
   "execution_count": 6,
   "id": "ae4862b1",
   "metadata": {},
   "outputs": [
    {
     "data": {
      "text/html": [
       "<div>\n",
       "<style scoped>\n",
       "    .dataframe tbody tr th:only-of-type {\n",
       "        vertical-align: middle;\n",
       "    }\n",
       "\n",
       "    .dataframe tbody tr th {\n",
       "        vertical-align: top;\n",
       "    }\n",
       "\n",
       "    .dataframe thead th {\n",
       "        text-align: right;\n",
       "    }\n",
       "</style>\n",
       "<table border=\"1\" class=\"dataframe\">\n",
       "  <thead>\n",
       "    <tr style=\"text-align: right;\">\n",
       "      <th></th>\n",
       "      <th>satisfaction_level</th>\n",
       "      <th>last_evaluation</th>\n",
       "      <th>number_project</th>\n",
       "      <th>average_montly_hours</th>\n",
       "      <th>time_spend_company</th>\n",
       "      <th>Work_accident</th>\n",
       "      <th>left</th>\n",
       "      <th>promotion_last_5years</th>\n",
       "      <th>Department</th>\n",
       "      <th>salary</th>\n",
       "    </tr>\n",
       "  </thead>\n",
       "  <tbody>\n",
       "    <tr>\n",
       "      <th>0</th>\n",
       "      <td>0.38</td>\n",
       "      <td>0.53</td>\n",
       "      <td>2</td>\n",
       "      <td>157</td>\n",
       "      <td>3</td>\n",
       "      <td>0</td>\n",
       "      <td>1</td>\n",
       "      <td>0</td>\n",
       "      <td>sales</td>\n",
       "      <td>low</td>\n",
       "    </tr>\n",
       "    <tr>\n",
       "      <th>1</th>\n",
       "      <td>0.80</td>\n",
       "      <td>0.86</td>\n",
       "      <td>5</td>\n",
       "      <td>262</td>\n",
       "      <td>6</td>\n",
       "      <td>0</td>\n",
       "      <td>1</td>\n",
       "      <td>0</td>\n",
       "      <td>sales</td>\n",
       "      <td>medium</td>\n",
       "    </tr>\n",
       "    <tr>\n",
       "      <th>2</th>\n",
       "      <td>0.11</td>\n",
       "      <td>0.88</td>\n",
       "      <td>7</td>\n",
       "      <td>272</td>\n",
       "      <td>4</td>\n",
       "      <td>0</td>\n",
       "      <td>1</td>\n",
       "      <td>0</td>\n",
       "      <td>sales</td>\n",
       "      <td>medium</td>\n",
       "    </tr>\n",
       "    <tr>\n",
       "      <th>3</th>\n",
       "      <td>0.72</td>\n",
       "      <td>0.87</td>\n",
       "      <td>5</td>\n",
       "      <td>223</td>\n",
       "      <td>5</td>\n",
       "      <td>0</td>\n",
       "      <td>1</td>\n",
       "      <td>0</td>\n",
       "      <td>sales</td>\n",
       "      <td>low</td>\n",
       "    </tr>\n",
       "    <tr>\n",
       "      <th>4</th>\n",
       "      <td>0.37</td>\n",
       "      <td>0.52</td>\n",
       "      <td>2</td>\n",
       "      <td>159</td>\n",
       "      <td>3</td>\n",
       "      <td>0</td>\n",
       "      <td>1</td>\n",
       "      <td>0</td>\n",
       "      <td>sales</td>\n",
       "      <td>low</td>\n",
       "    </tr>\n",
       "  </tbody>\n",
       "</table>\n",
       "</div>"
      ],
      "text/plain": [
       "   satisfaction_level  last_evaluation  number_project  average_montly_hours  \\\n",
       "0                0.38             0.53               2                   157   \n",
       "1                0.80             0.86               5                   262   \n",
       "2                0.11             0.88               7                   272   \n",
       "3                0.72             0.87               5                   223   \n",
       "4                0.37             0.52               2                   159   \n",
       "\n",
       "   time_spend_company  Work_accident  left  promotion_last_5years Department  \\\n",
       "0                   3              0     1                      0      sales   \n",
       "1                   6              0     1                      0      sales   \n",
       "2                   4              0     1                      0      sales   \n",
       "3                   5              0     1                      0      sales   \n",
       "4                   3              0     1                      0      sales   \n",
       "\n",
       "   salary  \n",
       "0     low  \n",
       "1  medium  \n",
       "2  medium  \n",
       "3     low  \n",
       "4     low  "
      ]
     },
     "execution_count": 6,
     "metadata": {},
     "output_type": "execute_result"
    }
   ],
   "source": [
    "hr = pd.read_csv('HR_comma_sep.csv')\n",
    "hr.head()"
   ]
  },
  {
   "cell_type": "code",
   "execution_count": 8,
   "id": "5eef9d10",
   "metadata": {},
   "outputs": [],
   "source": [
    "dum_hr=pd.get_dummies(hr,drop_first=True)"
   ]
  },
  {
   "cell_type": "code",
   "execution_count": 13,
   "id": "e205bed9",
   "metadata": {},
   "outputs": [],
   "source": [
    "X = dum_hr.drop('left',axis=1)\n",
    "y = dum_hr['left']"
   ]
  },
  {
   "cell_type": "code",
   "execution_count": 14,
   "id": "9bae40dd",
   "metadata": {},
   "outputs": [],
   "source": [
    "X_train, X_test, y_train, y_test = train_test_split(X, y,random_state=2022,\n",
    "                                                    test_size=0.3,\n",
    "                                                    stratify=y)\n"
   ]
  },
  {
   "cell_type": "code",
   "execution_count": 15,
   "id": "9821f320",
   "metadata": {},
   "outputs": [],
   "source": [
    "from sklearn.neighbors import KNeighborsClassifier\n",
    "from sklearn.metrics import accuracy_score, roc_auc_score\n",
    "from sklearn.preprocessing import StandardScaler, MinMaxScaler"
   ]
  },
  {
   "cell_type": "code",
   "execution_count": 19,
   "id": "dd75ff4c",
   "metadata": {},
   "outputs": [],
   "source": [
    "scaler = StandardScaler()\n",
    "scl_trn = scaler.fit_transform(X_train)\n",
    "scl_tst = scaler.transform(X_test)"
   ]
  },
  {
   "cell_type": "code",
   "execution_count": 20,
   "id": "6ea019f3",
   "metadata": {},
   "outputs": [
    {
     "data": {
      "text/plain": [
       "KNeighborsClassifier(n_neighbors=13)"
      ]
     },
     "execution_count": 20,
     "metadata": {},
     "output_type": "execute_result"
    }
   ],
   "source": [
    "knn = KNeighborsClassifier(n_neighbors=13)\n",
    "knn.fit(scl_trn, y_train)"
   ]
  },
  {
   "cell_type": "code",
   "execution_count": 21,
   "id": "3d2182c7",
   "metadata": {},
   "outputs": [
    {
     "name": "stdout",
     "output_type": "stream",
     "text": [
      "0.9684614586575371\n"
     ]
    }
   ],
   "source": [
    "# ROC AUC\n",
    "y_pred_prob = knn.predict_proba(scl_tst)[:,1]\n",
    "print(roc_auc_score(y_test, y_pred_prob))"
   ]
  },
  {
   "cell_type": "code",
   "execution_count": 34,
   "id": "3fff0215",
   "metadata": {},
   "outputs": [
    {
     "data": {
      "text/plain": [
       "Pipeline(steps=[('scl_mm', MinMaxScaler()),\n",
       "                ('knn_model', KNeighborsClassifier(n_neighbors=3))])"
      ]
     },
     "execution_count": 34,
     "metadata": {},
     "output_type": "execute_result"
    }
   ],
   "source": [
    "######## Pipeline ##############\n",
    "from sklearn.pipeline import Pipeline\n",
    "scaler = MinMaxScaler()\n",
    "knn = KNeighborsClassifier(n_neighbors=3)\n",
    "pipe = Pipeline([('scl_mm', scaler), ('knn_model', knn)])\n",
    "pipe.fit(X_train, y_train)"
   ]
  },
  {
   "cell_type": "code",
   "execution_count": 36,
   "id": "2c38c52b",
   "metadata": {},
   "outputs": [
    {
     "ename": "ValueError",
     "evalue": "multi_class must be in ('ovo', 'ovr')",
     "output_type": "error",
     "traceback": [
      "\u001b[1;31m---------------------------------------------------------------------------\u001b[0m",
      "\u001b[1;31mValueError\u001b[0m                                Traceback (most recent call last)",
      "\u001b[1;32m~\\AppData\\Local\\Temp\\ipykernel_16544\\3369427083.py\u001b[0m in \u001b[0;36m<module>\u001b[1;34m\u001b[0m\n\u001b[0;32m      2\u001b[0m \u001b[0my_pred_prob\u001b[0m \u001b[1;33m=\u001b[0m \u001b[0mpipe\u001b[0m\u001b[1;33m.\u001b[0m\u001b[0mpredict_proba\u001b[0m\u001b[1;33m(\u001b[0m\u001b[0mX_test\u001b[0m\u001b[1;33m)\u001b[0m\u001b[1;33m[\u001b[0m\u001b[1;33m:\u001b[0m\u001b[1;33m,\u001b[0m\u001b[1;36m1\u001b[0m\u001b[1;33m]\u001b[0m\u001b[1;33m\u001b[0m\u001b[1;33m\u001b[0m\u001b[0m\n\u001b[0;32m      3\u001b[0m \u001b[1;33m\u001b[0m\u001b[0m\n\u001b[1;32m----> 4\u001b[1;33m \u001b[0mprint\u001b[0m\u001b[1;33m(\u001b[0m\u001b[0mroc_auc_score\u001b[0m\u001b[1;33m(\u001b[0m\u001b[0my_test\u001b[0m\u001b[1;33m,\u001b[0m \u001b[0my_pred_prob\u001b[0m\u001b[1;33m)\u001b[0m\u001b[1;33m)\u001b[0m\u001b[1;33m\u001b[0m\u001b[1;33m\u001b[0m\u001b[0m\n\u001b[0m",
      "\u001b[1;32mC:\\ProgramData\\Anaconda3\\lib\\site-packages\\sklearn\\metrics\\_ranking.py\u001b[0m in \u001b[0;36mroc_auc_score\u001b[1;34m(y_true, y_score, average, sample_weight, max_fpr, multi_class, labels)\u001b[0m\n\u001b[0;32m    558\u001b[0m             )\n\u001b[0;32m    559\u001b[0m         \u001b[1;32mif\u001b[0m \u001b[0mmulti_class\u001b[0m \u001b[1;33m==\u001b[0m \u001b[1;34m\"raise\"\u001b[0m\u001b[1;33m:\u001b[0m\u001b[1;33m\u001b[0m\u001b[1;33m\u001b[0m\u001b[0m\n\u001b[1;32m--> 560\u001b[1;33m             \u001b[1;32mraise\u001b[0m \u001b[0mValueError\u001b[0m\u001b[1;33m(\u001b[0m\u001b[1;34m\"multi_class must be in ('ovo', 'ovr')\"\u001b[0m\u001b[1;33m)\u001b[0m\u001b[1;33m\u001b[0m\u001b[1;33m\u001b[0m\u001b[0m\n\u001b[0m\u001b[0;32m    561\u001b[0m         return _multiclass_roc_auc_score(\n\u001b[0;32m    562\u001b[0m             \u001b[0my_true\u001b[0m\u001b[1;33m,\u001b[0m \u001b[0my_score\u001b[0m\u001b[1;33m,\u001b[0m \u001b[0mlabels\u001b[0m\u001b[1;33m,\u001b[0m \u001b[0mmulti_class\u001b[0m\u001b[1;33m,\u001b[0m \u001b[0maverage\u001b[0m\u001b[1;33m,\u001b[0m \u001b[0msample_weight\u001b[0m\u001b[1;33m\u001b[0m\u001b[1;33m\u001b[0m\u001b[0m\n",
      "\u001b[1;31mValueError\u001b[0m: multi_class must be in ('ovo', 'ovr')"
     ]
    }
   ],
   "source": [
    "# ROC AUC\n",
    "y_pred_prob = pipe.predict_proba(X_test)[:,1]\n",
    "\n",
    "print(roc_auc_score(y_test, y_pred_prob))"
   ]
  },
  {
   "cell_type": "code",
   "execution_count": 37,
   "id": "405dd5db",
   "metadata": {},
   "outputs": [],
   "source": [
    "import pandas as pd\n",
    "import numpy as np\n",
    "import os\n",
    "from sklearn.model_selection import train_test_split\n",
    "from sklearn.preprocessing import LabelEncoder\n",
    "from sklearn.neighbors import KNeighborsClassifier\n",
    "from sklearn.metrics import log_loss\n",
    "from sklearn.preprocessing import StandardScaler, MinMaxScaler\n",
    "from sklearn.pipeline import Pipeline\n"
   ]
  },
  {
   "cell_type": "code",
   "execution_count": 25,
   "id": "ffeb6343",
   "metadata": {},
   "outputs": [],
   "source": [
    "os.chdir('D:/onkar_cdac/C-DAC/PML-20230313T171418Z-001/PML/Files_by_sir/5. PML/1. Day wise Study Material/Cases/Image Segmentation')"
   ]
  },
  {
   "cell_type": "code",
   "execution_count": 26,
   "id": "cd6cf22d",
   "metadata": {},
   "outputs": [],
   "source": [
    "################ Image Segmentation #################\n",
    "imag_seg = pd.read_csv('Image_Segmention.csv')"
   ]
  },
  {
   "cell_type": "code",
   "execution_count": 27,
   "id": "dc36603a",
   "metadata": {},
   "outputs": [
    {
     "data": {
      "text/html": [
       "<div>\n",
       "<style scoped>\n",
       "    .dataframe tbody tr th:only-of-type {\n",
       "        vertical-align: middle;\n",
       "    }\n",
       "\n",
       "    .dataframe tbody tr th {\n",
       "        vertical-align: top;\n",
       "    }\n",
       "\n",
       "    .dataframe thead th {\n",
       "        text-align: right;\n",
       "    }\n",
       "</style>\n",
       "<table border=\"1\" class=\"dataframe\">\n",
       "  <thead>\n",
       "    <tr style=\"text-align: right;\">\n",
       "      <th></th>\n",
       "      <th>Class</th>\n",
       "      <th>region.centroid.col</th>\n",
       "      <th>region.centroid.row</th>\n",
       "      <th>region.pixel.count</th>\n",
       "      <th>short.line.density.5</th>\n",
       "      <th>short.line.density.2</th>\n",
       "      <th>vedge.mean</th>\n",
       "      <th>vegde.sd</th>\n",
       "      <th>hedge.mean</th>\n",
       "      <th>hedge.sd</th>\n",
       "      <th>intensity.mean</th>\n",
       "      <th>rawred.mean</th>\n",
       "      <th>rawblue.mean</th>\n",
       "      <th>rawgreen.mean</th>\n",
       "      <th>exred.mean</th>\n",
       "      <th>exblue.mean</th>\n",
       "      <th>exgreen.mean</th>\n",
       "      <th>value.mean</th>\n",
       "      <th>saturation.mean</th>\n",
       "      <th>hue-mean</th>\n",
       "    </tr>\n",
       "  </thead>\n",
       "  <tbody>\n",
       "    <tr>\n",
       "      <th>0</th>\n",
       "      <td>BRICKFACE</td>\n",
       "      <td>188</td>\n",
       "      <td>133</td>\n",
       "      <td>9</td>\n",
       "      <td>0.0</td>\n",
       "      <td>0.0</td>\n",
       "      <td>0.333333</td>\n",
       "      <td>0.266667</td>\n",
       "      <td>0.500000</td>\n",
       "      <td>0.077778</td>\n",
       "      <td>6.666666</td>\n",
       "      <td>8.333334</td>\n",
       "      <td>7.777778</td>\n",
       "      <td>3.888889</td>\n",
       "      <td>5.000000</td>\n",
       "      <td>3.333333</td>\n",
       "      <td>-8.333333</td>\n",
       "      <td>8.444445</td>\n",
       "      <td>0.538580</td>\n",
       "      <td>-0.924817</td>\n",
       "    </tr>\n",
       "    <tr>\n",
       "      <th>1</th>\n",
       "      <td>BRICKFACE</td>\n",
       "      <td>105</td>\n",
       "      <td>139</td>\n",
       "      <td>9</td>\n",
       "      <td>0.0</td>\n",
       "      <td>0.0</td>\n",
       "      <td>0.277778</td>\n",
       "      <td>0.107407</td>\n",
       "      <td>0.833333</td>\n",
       "      <td>0.522222</td>\n",
       "      <td>6.111111</td>\n",
       "      <td>7.555555</td>\n",
       "      <td>7.222222</td>\n",
       "      <td>3.555556</td>\n",
       "      <td>4.333334</td>\n",
       "      <td>3.333333</td>\n",
       "      <td>-7.666666</td>\n",
       "      <td>7.555555</td>\n",
       "      <td>0.532628</td>\n",
       "      <td>-0.965946</td>\n",
       "    </tr>\n",
       "    <tr>\n",
       "      <th>2</th>\n",
       "      <td>BRICKFACE</td>\n",
       "      <td>34</td>\n",
       "      <td>137</td>\n",
       "      <td>9</td>\n",
       "      <td>0.0</td>\n",
       "      <td>0.0</td>\n",
       "      <td>0.500000</td>\n",
       "      <td>0.166667</td>\n",
       "      <td>1.111111</td>\n",
       "      <td>0.474074</td>\n",
       "      <td>5.851852</td>\n",
       "      <td>7.777778</td>\n",
       "      <td>6.444445</td>\n",
       "      <td>3.333333</td>\n",
       "      <td>5.777778</td>\n",
       "      <td>1.777778</td>\n",
       "      <td>-7.555555</td>\n",
       "      <td>7.777778</td>\n",
       "      <td>0.573633</td>\n",
       "      <td>-0.744272</td>\n",
       "    </tr>\n",
       "    <tr>\n",
       "      <th>3</th>\n",
       "      <td>BRICKFACE</td>\n",
       "      <td>39</td>\n",
       "      <td>111</td>\n",
       "      <td>9</td>\n",
       "      <td>0.0</td>\n",
       "      <td>0.0</td>\n",
       "      <td>0.722222</td>\n",
       "      <td>0.374074</td>\n",
       "      <td>0.888889</td>\n",
       "      <td>0.429629</td>\n",
       "      <td>6.037037</td>\n",
       "      <td>7.000000</td>\n",
       "      <td>7.666666</td>\n",
       "      <td>3.444444</td>\n",
       "      <td>2.888889</td>\n",
       "      <td>4.888889</td>\n",
       "      <td>-7.777778</td>\n",
       "      <td>7.888889</td>\n",
       "      <td>0.562919</td>\n",
       "      <td>-1.175773</td>\n",
       "    </tr>\n",
       "    <tr>\n",
       "      <th>4</th>\n",
       "      <td>BRICKFACE</td>\n",
       "      <td>16</td>\n",
       "      <td>128</td>\n",
       "      <td>9</td>\n",
       "      <td>0.0</td>\n",
       "      <td>0.0</td>\n",
       "      <td>0.500000</td>\n",
       "      <td>0.077778</td>\n",
       "      <td>0.666667</td>\n",
       "      <td>0.311111</td>\n",
       "      <td>5.555555</td>\n",
       "      <td>6.888889</td>\n",
       "      <td>6.666666</td>\n",
       "      <td>3.111111</td>\n",
       "      <td>4.000000</td>\n",
       "      <td>3.333333</td>\n",
       "      <td>-7.333334</td>\n",
       "      <td>7.111111</td>\n",
       "      <td>0.561508</td>\n",
       "      <td>-0.985811</td>\n",
       "    </tr>\n",
       "  </tbody>\n",
       "</table>\n",
       "</div>"
      ],
      "text/plain": [
       "       Class  region.centroid.col  region.centroid.row  region.pixel.count  \\\n",
       "0  BRICKFACE                  188                  133                   9   \n",
       "1  BRICKFACE                  105                  139                   9   \n",
       "2  BRICKFACE                   34                  137                   9   \n",
       "3  BRICKFACE                   39                  111                   9   \n",
       "4  BRICKFACE                   16                  128                   9   \n",
       "\n",
       "   short.line.density.5  short.line.density.2  vedge.mean  vegde.sd  \\\n",
       "0                   0.0                   0.0    0.333333  0.266667   \n",
       "1                   0.0                   0.0    0.277778  0.107407   \n",
       "2                   0.0                   0.0    0.500000  0.166667   \n",
       "3                   0.0                   0.0    0.722222  0.374074   \n",
       "4                   0.0                   0.0    0.500000  0.077778   \n",
       "\n",
       "   hedge.mean  hedge.sd  intensity.mean  rawred.mean  rawblue.mean  \\\n",
       "0    0.500000  0.077778        6.666666     8.333334      7.777778   \n",
       "1    0.833333  0.522222        6.111111     7.555555      7.222222   \n",
       "2    1.111111  0.474074        5.851852     7.777778      6.444445   \n",
       "3    0.888889  0.429629        6.037037     7.000000      7.666666   \n",
       "4    0.666667  0.311111        5.555555     6.888889      6.666666   \n",
       "\n",
       "   rawgreen.mean  exred.mean  exblue.mean  exgreen.mean  value.mean  \\\n",
       "0       3.888889    5.000000     3.333333     -8.333333    8.444445   \n",
       "1       3.555556    4.333334     3.333333     -7.666666    7.555555   \n",
       "2       3.333333    5.777778     1.777778     -7.555555    7.777778   \n",
       "3       3.444444    2.888889     4.888889     -7.777778    7.888889   \n",
       "4       3.111111    4.000000     3.333333     -7.333334    7.111111   \n",
       "\n",
       "   saturation.mean  hue-mean  \n",
       "0         0.538580 -0.924817  \n",
       "1         0.532628 -0.965946  \n",
       "2         0.573633 -0.744272  \n",
       "3         0.562919 -1.175773  \n",
       "4         0.561508 -0.985811  "
      ]
     },
     "execution_count": 27,
     "metadata": {},
     "output_type": "execute_result"
    }
   ],
   "source": [
    "imag_seg.head()"
   ]
  },
  {
   "cell_type": "code",
   "execution_count": 28,
   "id": "391ae184",
   "metadata": {},
   "outputs": [],
   "source": [
    "X = imag_seg.drop('Class', axis=1)\n",
    "y = imag_seg['Class']"
   ]
  },
  {
   "cell_type": "code",
   "execution_count": 29,
   "id": "1026b143",
   "metadata": {},
   "outputs": [
    {
     "name": "stdout",
     "output_type": "stream",
     "text": [
      "['BRICKFACE' 'CEMENT' 'FOLIAGE' 'GRASS' 'PATH' 'SKY' 'WINDOW']\n"
     ]
    }
   ],
   "source": [
    "le = LabelEncoder()\n",
    "le_y = le.fit_transform(y)\n",
    "print(le.classes_)"
   ]
  },
  {
   "cell_type": "code",
   "execution_count": 30,
   "id": "d93c669d",
   "metadata": {},
   "outputs": [],
   "source": [
    "X_train, X_test, y_train, y_test = train_test_split(X, le_y,random_state=2022,\n",
    "                                                    test_size=0.3,\n",
    "                                                    stratify=le_y)"
   ]
  },
  {
   "cell_type": "code",
   "execution_count": 31,
   "id": "3e331a68",
   "metadata": {},
   "outputs": [
    {
     "data": {
      "text/plain": [
       "Pipeline(steps=[('scl_mm', MinMaxScaler()),\n",
       "                ('knn_model', KNeighborsClassifier(n_neighbors=3))])"
      ]
     },
     "execution_count": 31,
     "metadata": {},
     "output_type": "execute_result"
    }
   ],
   "source": [
    "scaler = MinMaxScaler()\n",
    "knn = KNeighborsClassifier(n_neighbors=3)\n",
    "pipe = Pipeline([('scl_mm', scaler), ('knn_model', knn)])\n",
    "pipe.fit(X_train, y_train)"
   ]
  },
  {
   "cell_type": "code",
   "execution_count": 38,
   "id": "bda16248",
   "metadata": {},
   "outputs": [
    {
     "name": "stdout",
     "output_type": "stream",
     "text": [
      "3.426216787968475\n"
     ]
    }
   ],
   "source": [
    "# Log loss\n",
    "y_pred_prob = pipe.predict_proba(X_test)\n",
    "\n",
    "print(log_loss(y_test, y_pred_prob))\n",
    "\n",
    "losses = []"
   ]
  },
  {
   "cell_type": "code",
   "execution_count": 39,
   "id": "979e9995",
   "metadata": {},
   "outputs": [
    {
     "name": "stdout",
     "output_type": "stream",
     "text": [
      "k= 1 Log Loss= 6.578814551411564\n",
      "k= 2 Log Loss= 5.000124930754859\n",
      "k= 3 Log Loss= 3.426216787968475\n",
      "k= 4 Log Loss= 2.913470964955557\n",
      "k= 5 Log Loss= 1.876641576636578\n",
      "k= 6 Log Loss= 1.902390183295754\n",
      "k= 7 Log Loss= 1.9438936261856758\n",
      "k= 8 Log Loss= 1.9636264631047873\n",
      "k= 9 Log Loss= 1.9607552622358295\n",
      "k= 10 Log Loss= 1.989105807124932\n",
      "k= 11 Log Loss= 2.0180553544256954\n",
      "k= 12 Log Loss= 2.025426254340873\n",
      "k= 13 Log Loss= 1.5357389162010235\n",
      "k= 14 Log Loss= 1.036856409316324\n",
      "k= 15 Log Loss= 1.0561936104513319\n",
      "k= 16 Log Loss= 1.0742429525323551\n",
      "k= 17 Log Loss= 1.0874393419650945\n",
      "k= 18 Log Loss= 1.105213323011573\n",
      "k= 19 Log Loss= 0.6261650708016973\n",
      "k= 20 Log Loss= 0.6453079123777592\n",
      "k= 21 Log Loss= 0.6739119156548865\n",
      "k= 22 Log Loss= 0.7021281851348559\n",
      "k= 23 Log Loss= 0.7196404896788556\n",
      "k= 24 Log Loss= 0.7459456031064244\n",
      "k= 25 Log Loss= 0.7591229267674877\n",
      "k= 26 Log Loss= 0.7759888860466708\n",
      "k= 27 Log Loss= 0.7880311126642157\n",
      "k= 28 Log Loss= 0.8081512844080903\n",
      "k= 29 Log Loss= 0.820178712141226\n",
      "k= 30 Log Loss= 0.8343399560562094\n",
      "Best K = 19 with log loss= 0.6261650708016973\n",
      "['BRICKFACE' 'CEMENT' 'FOLIAGE' 'GRASS' 'PATH' 'SKY' 'WINDOW']\n"
     ]
    },
    {
     "name": "stderr",
     "output_type": "stream",
     "text": [
      "C:\\ProgramData\\Anaconda3\\lib\\site-packages\\sklearn\\neighbors\\_classification.py:228: FutureWarning: Unlike other reduction functions (e.g. `skew`, `kurtosis`), the default behavior of `mode` typically preserves the axis it acts along. In SciPy 1.11.0, this behavior will change: the default value of `keepdims` will become False, the `axis` over which the statistic is taken will be eliminated, and the value None will no longer be accepted. Set `keepdims` to True or False to avoid this warning.\n",
      "  mode, _ = stats.mode(_y[neigh_ind, k], axis=1)\n"
     ]
    },
    {
     "data": {
      "text/plain": [
       "array(['SKY', 'PATH', 'GRASS', 'GRASS'], dtype=object)"
      ]
     },
     "execution_count": 39,
     "metadata": {},
     "output_type": "execute_result"
    }
   ],
   "source": [
    "for i in np.arange(1,31):\n",
    "    knn = KNeighborsClassifier(n_neighbors=i)\n",
    "    pipe = Pipeline([('scl_mm', scaler), ('knn_model', knn)])\n",
    "    pipe.fit(X_train, y_train)\n",
    "\n",
    "    # Log loss\n",
    "    y_pred_prob = pipe.predict_proba(X_test)\n",
    "\n",
    "    print(\"k=\",i,\"Log Loss=\", log_loss(y_test, y_pred_prob))\n",
    "    losses.append(log_loss(y_test, y_pred_prob))\n",
    "\n",
    "np.min(losses)\n",
    "np.argmin(losses)\n",
    "\n",
    "print(\"Best K =\", np.argmin(losses)+1, \"with log loss=\",np.min(losses))\n",
    "\n",
    "best_k = np.argmin(losses)+1\n",
    "\n",
    "tst_img = pd.read_csv(\"tst_img.csv\")\n",
    "knn = KNeighborsClassifier(n_neighbors=best_k)\n",
    "pipe = Pipeline([('scl_mm', scaler), ('knn_model', knn)])\n",
    "pipe.fit(X_train, y_train)\n",
    "\n",
    "y_pred = pipe.predict(tst_img)\n",
    "print(le.classes_)\n",
    "\n",
    "le.inverse_transform(y_pred)"
   ]
  },
  {
   "cell_type": "code",
   "execution_count": 42,
   "id": "ad7e5ba4",
   "metadata": {},
   "outputs": [
    {
     "name": "stdout",
     "output_type": "stream",
     "text": [
      "['bus' 'opel' 'saab' 'van']\n",
      "k= 1 Log Loss= 10.198457596922447\n",
      "k= 2 Log Loss= 5.945823882340175\n",
      "k= 3 Log Loss= 4.048828547040008\n",
      "k= 4 Log Loss= 3.1268593256144364\n",
      "k= 5 Log Loss= 1.7339973858634934\n",
      "k= 6 Log Loss= 1.6348502735734791\n",
      "k= 7 Log Loss= 1.5241545754048555\n",
      "k= 8 Log Loss= 1.4207995979482804\n",
      "k= 9 Log Loss= 1.3051280022446425\n",
      "k= 10 Log Loss= 1.189270674453102\n",
      "k= 11 Log Loss= 1.189714253886304\n",
      "k= 12 Log Loss= 1.1964909434488282\n",
      "k= 13 Log Loss= 1.2146211103835867\n",
      "k= 14 Log Loss= 1.220149974202797\n",
      "k= 15 Log Loss= 1.2290096214558133\n",
      "k= 16 Log Loss= 1.2271354084523203\n",
      "k= 17 Log Loss= 1.235839065685681\n",
      "k= 18 Log Loss= 1.2418034557743824\n",
      "k= 19 Log Loss= 1.25060875363211\n",
      "k= 20 Log Loss= 1.131532528645484\n",
      "k= 21 Log Loss= 1.0159636354047532\n",
      "k= 22 Log Loss= 1.0257888187116044\n",
      "k= 23 Log Loss= 0.9041614251831179\n",
      "k= 24 Log Loss= 0.9060679699050395\n",
      "k= 25 Log Loss= 0.914084710315422\n",
      "k= 26 Log Loss= 0.9199245923035811\n",
      "k= 27 Log Loss= 0.9253343368767551\n",
      "k= 28 Log Loss= 0.9262936257592483\n",
      "k= 29 Log Loss= 0.930165554337654\n",
      "k= 30 Log Loss= 0.9353329255342447\n",
      "Best K = 23 with log loss= 0.9041614251831179\n"
     ]
    }
   ],
   "source": [
    "############### Image Segmentation #################\n",
    "vehicle = pd.read_csv('D:/onkar_cdac/C-DAC/PML-20230313T171418Z-001/PML/Files_by_sir/5. PML/1. Day wise Study Material/Cases/Vehicle Silhouettes/Vehicle.csv')\n",
    "\n",
    "X = vehicle.drop('Class', axis=1)\n",
    "y = vehicle['Class']\n",
    "\n",
    "le = LabelEncoder()\n",
    "le_y = le.fit_transform(y)\n",
    "print(le.classes_)\n",
    "\n",
    "X_train, X_test, y_train, y_test = train_test_split(X, le_y,random_state=2022,\n",
    "                                                    test_size=0.3,\n",
    "                                                    stratify=le_y)\n",
    "scaler = MinMaxScaler()\n",
    "losses = []\n",
    "\n",
    "for i in np.arange(1,31):\n",
    "    knn = KNeighborsClassifier(n_neighbors=i)\n",
    "    pipe = Pipeline([('scl_mm', scaler), ('knn_model', knn)])\n",
    "    pipe.fit(X_train, y_train)\n",
    "\n",
    "    # Log loss\n",
    "    y_pred_prob = pipe.predict_proba(X_test)\n",
    "\n",
    "    print(\"k=\",i,\"Log Loss=\", log_loss(y_test, y_pred_prob))\n",
    "    losses.append(log_loss(y_test, y_pred_prob))\n",
    "\n",
    "print(\"Best K =\", np.argmin(losses)+1, \"with log loss=\",np.min(losses))"
   ]
  },
  {
   "cell_type": "code",
   "execution_count": 44,
   "id": "630e1877",
   "metadata": {},
   "outputs": [],
   "source": [
    "import pandas as pd\n",
    "import numpy as np\n",
    "import os\n",
    "from sklearn.model_selection import train_test_split\n",
    "from sklearn.neighbors import KNeighborsRegressor\n",
    "from sklearn.metrics import mean_absolute_error\n",
    "from sklearn.metrics import mean_squared_error, r2_score\n",
    "from sklearn.preprocessing import StandardScaler, MinMaxScaler\n",
    "from sklearn.pipeline import Pipeline"
   ]
  },
  {
   "cell_type": "code",
   "execution_count": null,
   "id": "d5b6c30a",
   "metadata": {},
   "outputs": [],
   "source": [
    "os.chdir(r\"C:\\Training\\Academy\\Statistics (Python)\\Cases\\Medical Cost Personal\")"
   ]
  }
 ],
 "metadata": {
  "kernelspec": {
   "display_name": "Python 3 (ipykernel)",
   "language": "python",
   "name": "python3"
  },
  "language_info": {
   "codemirror_mode": {
    "name": "ipython",
    "version": 3
   },
   "file_extension": ".py",
   "mimetype": "text/x-python",
   "name": "python",
   "nbconvert_exporter": "python",
   "pygments_lexer": "ipython3",
   "version": "3.9.13"
  }
 },
 "nbformat": 4,
 "nbformat_minor": 5
}
